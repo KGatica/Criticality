{
 "cells": [
  {
   "cell_type": "code",
   "execution_count": null,
   "metadata": {
    "collapsed": false
   },
   "outputs": [],
   "source": [
    "import numpy as np\n",
    "from scipy.integrate import dblquad\n",
    "from scipy.signal import fftconvolve\n",
    "from scipy.io import loadmat\n",
    "from scipy.io import savemat"
   ]
  },
  {
   "cell_type": "markdown",
   "metadata": {},
   "source": [
    "### Model\n",
    "\n",
    "Input: Image $I(x,y)$\n",
    "\n",
    "Signal: $s(x,y)=f_{DoG}*I(x,y)$\n",
    "\n",
    "Noise: Multivariate normal distribution with covariance matrix\n",
    "$\\Sigma_{ij}=\\sigma_{noise}^2 (\\alpha \\delta_{ij}+\\beta e^{-\\Delta_{ij}/2\\tau})$ and mean 0\n",
    "\n",
    "Ouput of single trial:\n",
    "\n",
    "$b_j=0$ for $s(x_j,y_j)+n_j+offset < 0.5$\n",
    "\n",
    "$b_j=1$ for $s(x_j,y_j)+n_j+offset > 0.5$"
   ]
  },
  {
   "cell_type": "markdown",
   "metadata": {},
   "source": [
    "### Functions"
   ]
  },
  {
   "cell_type": "code",
   "execution_count": null,
   "metadata": {
    "collapsed": false
   },
   "outputs": [],
   "source": [
    "def dog_filter(sig_cen,ratio,weight,on,N_x,N_y):\n",
    "    sig_sur=sig_cen*ratio\n",
    "    dog=lambda x,y: on/(2*np.pi*sig_cen**2)*np.exp(-(x**2+y**2)/(2*sig_cen**2))\\\n",
    "    -on*weight/(2*np.pi*sig_sur**2)*np.exp(-(x**2+y**2)/(2*sig_sur**2))\n",
    "    \n",
    "    arr=[]\n",
    "    for i in range (N_y):\n",
    "        new=[]\n",
    "        for j in range (N_x):\n",
    "            new.append(dog(-0.5*N_x+(j+0.5),-0.5*N_y+(i+0.5)))\n",
    "        arr.append(new)\n",
    "    arr=np.array(arr)\n",
    "    return arr\n",
    "\n",
    "def generate_output(rf,mask_small,I,f_dog_small,f_dog_large,Sigma,trials,offset):\n",
    "    num_stim,N_x,N_y=I.shape    \n",
    "    s_small=np.empty((num_stim,N_x,N_y))\n",
    "    s_large=np.empty((num_stim,N_x,N_y))\n",
    "    for i in range(num_stim):\n",
    "        s_small[i,:,:]=fftconvolve(I[i,:,:],f_dog_small[133:267,133:267],mode='same')\n",
    "        s_large[i,:,:]=fftconvolve(I[i,:,:],f_dog_large[75:325,75:325],mode='same')\n",
    "    rf=rf.astype(int)\n",
    "    num_cells=rf.shape[1]\n",
    "    b=np.zeros((num_stim,trials,num_cells))\n",
    "    p=np.zeros((num_stim,trials,num_cells))\n",
    "    p_im=np.zeros((num_stim,trials,num_cells))\n",
    "    p_rnd=np.zeros((num_stim,trials,num_cells))\n",
    "    n=np.random.multivariate_normal(np.zeros(num_cells),Sigma,(num_stim,trials))\n",
    "    for j in range(num_cells):\n",
    "        if mask_small[j]:\n",
    "            b[:,:,j]=np.rint(np.clip(np.outer(s_small[:,rf[0,j]+N_x//2,rf[1,j]+N_y//2],np.ones(trials))\\\n",
    "                                     +n[:,:,j]+offset,0,1))\n",
    "        else:\n",
    "            b[:,:,j]=np.rint(np.clip(np.outer(s_large[:,rf[0,j]+N_x//2,rf[1,j]+N_y//2],np.ones(trials))\\\n",
    "                                     +n[:,:,j]+offset,0,1))\n",
    "    return b"
   ]
  },
  {
   "cell_type": "markdown",
   "metadata": {},
   "source": [
    "### Setting parameters \n",
    "(only necessary if original model data is not loaded)"
   ]
  },
  {
   "cell_type": "code",
   "execution_count": null,
   "metadata": {
    "collapsed": false
   },
   "outputs": [],
   "source": [
    "px_length=2 #pixel size in µm\n",
    "\n",
    "#DoG filter parameters\n",
    "center_surround_ratio_small=2.0\n",
    "center_surround_ratio_large=2.0\n",
    "weight_surround=0.5\n",
    "on=1 #cell type (1:on, -1:off)\n",
    "\n",
    "#Noise\n",
    "noise_std=0.022 #standard deviation of white noise\n",
    "alpha=0.45 #independent noise fraction\n",
    "beta=np.sqrt(1-alpha**2) #correlated noise fraction\n",
    "tau=30.0  #spatial decay of noise correlations\n",
    "\n",
    "offset=0.168\n",
    "\n",
    "N_x=N_y=400 #stimulus size, size of the natural textures"
   ]
  },
  {
   "cell_type": "markdown",
   "metadata": {},
   "source": [
    "### Generating cell positions\n",
    "(only necessary if original model data is not loaded, does not generate exactly the same set of cells)"
   ]
  },
  {
   "cell_type": "code",
   "execution_count": null,
   "metadata": {
    "collapsed": false
   },
   "outputs": [],
   "source": [
    "retinainfo=loadmat('retinainfo.mat')\n",
    "\n",
    "#getting RF positions, centered around 0\n",
    "rf_positions=np.array([retinainfo['pos_x'].flatten()-50,retinainfo['pos_y'].flatten()])\n",
    "sigma_small=retinainfo['rf_size_small'].item()/2 #Factor of 0.5 since given values seem to be overly large\n",
    "sigma_large=retinainfo['rf_size_large'].item()/2 #compared to the overall area\n",
    "\n",
    "\n",
    "#randomly masking and removing 40% of the cells to correct for amacrine cells in the sample\n",
    "choice=np.array([np.random.random(rf_positions.shape[1])>0.6])\n",
    "choice=np.concatenate((choice,choice))\n",
    "cells=np.ma.compress_cols(np.ma.masked_array(rf_positions,choice))\n",
    "#masking two thirds of the cells that should have small receptive fields\n",
    "mask_small=np.array([np.random.random(cells.shape[1])>0.67]).flatten()\n",
    "\n",
    "sigma_small=sigma_small/px_length\n",
    "sigma_large=sigma_large/px_length\n",
    "cells=cells/px_length\n",
    "num_cells=cells.shape[1]"
   ]
  },
  {
   "cell_type": "markdown",
   "metadata": {},
   "source": [
    "### Save or load model data"
   ]
  },
  {
   "cell_type": "code",
   "execution_count": null,
   "metadata": {
    "collapsed": false
   },
   "outputs": [],
   "source": [
    "# savemat('Model_data.mat',{'cell_positions':cells,'sigma_small_RF':sigma_small,'sigma_large_RF':sigma_large,\\\n",
    "#                           'small_RF_mask':mask_small,'center_surround_ratio_small':center_surround_ratio_small,\\\n",
    "#                           'center_surround_ratio_large':center_surround_ratio_large,\\\n",
    "#                           'weight_surround':weight_surround,'white_noise_std':noise_std,\\\n",
    "#                           'independent_noise_fraction':alpha,'correlated_noise_fraction':beta,\\\n",
    "#                           'noise_spatial_decay':tau,'offset':offset,'pixel_size':px_length})"
   ]
  },
  {
   "cell_type": "code",
   "execution_count": null,
   "metadata": {
    "collapsed": false
   },
   "outputs": [],
   "source": [
    "loaddict=loadmat('Model_data.mat')\n",
    "\n",
    "cells=np.array(loaddict['cell_positions'])\n",
    "sigma_small=loaddict['sigma_small_RF'].item()\n",
    "sigma_large=loaddict['sigma_large_RF'].item()\n",
    "mask_small=np.array(loaddict['small_RF_mask']).flatten()\n",
    "center_surround_ratio_small=loaddict['center_surround_ratio_small'].item()\n",
    "center_surround_ratio_large=loaddict['center_surround_ratio_large'].item()\n",
    "weight_surround=loaddict['weight_surround'].item()\n",
    "noise_std=loaddict['white_noise_std'].item()\n",
    "alpha=loaddict['independent_noise_fraction'].item()\n",
    "beta=loaddict['correlated_noise_fraction'].item()\n",
    "tau=loaddict['noise_spatial_decay'].item()\n",
    "offset=loaddict['offset'].item()\n",
    "px_length=loaddict['pixel_size'].item()\n",
    "\n",
    "N_x=N_y=400 #stimulus size, size of the natural textures\n",
    "on=1\n",
    "num_cells=cells.shape[1]"
   ]
  },
  {
   "cell_type": "markdown",
   "metadata": {},
   "source": [
    "### Generation of filters and noise covariance"
   ]
  },
  {
   "cell_type": "code",
   "execution_count": null,
   "metadata": {
    "collapsed": false
   },
   "outputs": [],
   "source": [
    "f_dog_small=dog_filter(sigma_small,center_surround_ratio_small,weight_surround,on,400,400)\n",
    "f_dog_large=dog_filter(sigma_large,center_surround_ratio_large,weight_surround,on,400,400)\n",
    "Delta=np.array([[np.linalg.norm(cells[:,i]*px_length-cells[:,j]*px_length)\\\n",
    "                 for i in range(num_cells)]for j in range(num_cells)])\n",
    "Sigma=noise_std**2 *(beta*np.exp(-Delta/(2*tau))+alpha*np.identity(num_cells))"
   ]
  },
  {
   "cell_type": "markdown",
   "metadata": {},
   "source": [
    "### Natural image stimulus"
   ]
  },
  {
   "cell_type": "markdown",
   "metadata": {},
   "source": [
    "####  Loading stimulus images"
   ]
  },
  {
   "cell_type": "code",
   "execution_count": null,
   "metadata": {
    "collapsed": true
   },
   "outputs": [],
   "source": [
    "textures_400=loadmat('textures_400.mat')['textures']\n",
    "textures=[]\n",
    "for i in range(textures_400.shape[1]):\n",
    "    textures.append(textures_400[0,i][0])\n",
    "textures=np.array(textures)/255.\n",
    "textures=np.delete(textures,64,0)# excluding two textures with outlying mean \n",
    "textures=np.delete(textures,38,0)\n",
    "num_text=textures.shape[0]"
   ]
  },
  {
   "cell_type": "markdown",
   "metadata": {},
   "source": [
    "#### Output generation"
   ]
  },
  {
   "cell_type": "code",
   "execution_count": null,
   "metadata": {
    "collapsed": false
   },
   "outputs": [],
   "source": [
    "trials=300\n",
    "output=generate_output(cells,mask_small,textures,f_dog_small,f_dog_large,Sigma,trials,offset)"
   ]
  },
  {
   "cell_type": "markdown",
   "metadata": {},
   "source": [
    "#### Saving output data"
   ]
  },
  {
   "cell_type": "code",
   "execution_count": null,
   "metadata": {
    "collapsed": true
   },
   "outputs": [],
   "source": [
    "savemat('Retina_model_data_images.mat',{'cell_positions':cells,'sigma_small_RF':sigma_small,\\\n",
    "                                        'sigma_large_RF':sigma_large,'small_RF_mask':mask_small,\\\n",
    "                                        'center_surround_ratio_small':center_surround_ratio_small,\\\n",
    "                                        'center_surround_ratio_large':center_surround_ratio_large,\\\n",
    "                                        'weight_surround':weight_surround,'white_noise_std':noise_std,\\\n",
    "                                        'independent_noise_fraction':alpha,'correlated_noise_fraction':beta,\\\n",
    "                                        'noise_spatial_decay':tau,'offset':offset,'trials':trials,\\\n",
    "                                        'pixel_size':px_length,'output':output})"
   ]
  },
  {
   "cell_type": "markdown",
   "metadata": {},
   "source": [
    "### Checkerboard stimulus"
   ]
  },
  {
   "cell_type": "markdown",
   "metadata": {},
   "source": [
    "#### Stimulus generation"
   ]
  },
  {
   "cell_type": "code",
   "execution_count": null,
   "metadata": {
    "collapsed": false
   },
   "outputs": [],
   "source": [
    "px_size=5 #size of checkerboard pixels\n",
    "cb_low=0.15 #brightness of dark pixels\n",
    "cb_high=0.87 #brightness of bright pixels\n",
    "num_text=2000 #number of checkerboard stimulus images\n",
    "trials=10 #number of trials per image\n",
    "\n",
    "px_num=N_x//px_size\n",
    "checkerboard=np.ones((num_text,N_y,N_x))*cb_low\n",
    "for i in range (px_num):\n",
    "    for j in range (px_num):\n",
    "        checkerboard[:,i*px_size:(i+1)*px_size,j*px_size:(j+1)*px_size]\\\n",
    "        +=np.outer(np.random.binomial(1,0.5,num_text),np.ones((px_size,px_size)))\\\n",
    "        .reshape(num_text,px_size,px_size)*(cb_high-cb_low)"
   ]
  },
  {
   "cell_type": "markdown",
   "metadata": {},
   "source": [
    "#### Output generation"
   ]
  },
  {
   "cell_type": "code",
   "execution_count": null,
   "metadata": {
    "collapsed": false
   },
   "outputs": [],
   "source": [
    "output=generate_output(cells,mask_small,checkerboard,f_dog_small,f_dog_large,Sigma,trials,offset)"
   ]
  },
  {
   "cell_type": "markdown",
   "metadata": {},
   "source": [
    "#### Saving output data"
   ]
  },
  {
   "cell_type": "code",
   "execution_count": null,
   "metadata": {
    "collapsed": true
   },
   "outputs": [],
   "source": [
    "savemat('Retina_model_data_checkerboard.mat',{'cell_positions':cells,'sigma_small_RF':sigma_small,\\\n",
    "                                              'sigma_large_RF':sigma_large,'small_RF_mask':mask_small,\\\n",
    "                                              'center_surround_ratio_small':center_surround_ratio_small,\\\n",
    "                                              'center_surround_ratio_large':center_surround_ratio_large,\\\n",
    "                                              'weight_surround':weight_surround,'white_noise_std':noise_std,\\\n",
    "                                              'independent_noise_fraction':alpha,'correlated_noise_fraction':beta,\\\n",
    "                                              'noise_spatial_decay':tau,'offset':offset,'trials':trials,\\\n",
    "                                              'pixel_size':px_length,'output':output})"
   ]
  },
  {
   "cell_type": "markdown",
   "metadata": {},
   "source": [
    "### Fullfield flicker"
   ]
  },
  {
   "cell_type": "markdown",
   "metadata": {},
   "source": [
    "#### Stimulus generation"
   ]
  },
  {
   "cell_type": "code",
   "execution_count": null,
   "metadata": {
    "collapsed": true
   },
   "outputs": [],
   "source": [
    "num_text=2000 #number of checkerboard stimulus images\n",
    "trials=10 #number of trials per image\n",
    "ff_variance=0.06 #variance of gaussian full field flicker\n",
    "\n",
    "flicker=np.outer(np.random.normal(0.5,ff_variance,num_text),np.ones((N_x,N_y)))\n",
    "flicker=flicker.reshape(num_text,N_x,N_y)"
   ]
  },
  {
   "cell_type": "markdown",
   "metadata": {},
   "source": [
    "#### Output generation"
   ]
  },
  {
   "cell_type": "code",
   "execution_count": null,
   "metadata": {
    "collapsed": true
   },
   "outputs": [],
   "source": [
    "output=generate_output(cells,mask_small,flicker,f_dog_small,f_dog_large,Sigma,trials,offset)"
   ]
  },
  {
   "cell_type": "markdown",
   "metadata": {},
   "source": [
    "####  Saving output data"
   ]
  },
  {
   "cell_type": "code",
   "execution_count": null,
   "metadata": {
    "collapsed": false
   },
   "outputs": [],
   "source": [
    "savemat('Retina_model_data_flicker.mat',{'cell_positions':cells,'sigma_small_RF':sigma_small,\\\n",
    "                                         'sigma_large_RF':sigma_large,'small_RF_mask':mask_small,\\\n",
    "                                         'center_surround_ratio_small':center_surround_ratio_small,\\\n",
    "                                         'center_surround_ratio_large':center_surround_ratio_large,\\\n",
    "                                         'weight_surround':weight_surround,'white_noise_std':noise_std,\\\n",
    "                                         'independent_noise_fraction':alpha,'correlated_noise_fraction':beta,\\\n",
    "                                         'noise_spatial_decay':tau,'offset':offset,'trials':trials,\\\n",
    "                                         'pixel_size':px_length,'output':output})"
   ]
  }
 ],
 "metadata": {
  "kernelspec": {
   "display_name": "Python 3",
   "language": "python",
   "name": "python3"
  },
  "language_info": {
   "codemirror_mode": {
    "name": "ipython",
    "version": 3
   },
   "file_extension": ".py",
   "mimetype": "text/x-python",
   "name": "python",
   "nbconvert_exporter": "python",
   "pygments_lexer": "ipython3",
   "version": "3.5.1"
  }
 },
 "nbformat": 4,
 "nbformat_minor": 0
}
